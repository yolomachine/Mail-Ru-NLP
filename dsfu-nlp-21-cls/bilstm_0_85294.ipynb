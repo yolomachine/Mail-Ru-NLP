{
 "nbformat": 4,
 "nbformat_minor": 0,
 "metadata": {
  "colab": {
   "name": "lstm.ipynb",
   "provenance": [],
   "collapsed_sections": []
  },
  "kernelspec": {
   "display_name": "Python 3",
   "language": "python",
   "name": "python3"
  },
  "language_info": {
   "codemirror_mode": {
    "name": "ipython",
    "version": 3
   },
   "file_extension": ".py",
   "mimetype": "text/x-python",
   "name": "python",
   "nbconvert_exporter": "python",
   "pygments_lexer": "ipython3",
   "version": "3.8.6"
  },
  "accelerator": "TPU"
 },
 "cells": [
  {
   "cell_type": "code",
   "metadata": {
    "id": "Fo-J-u2LKzBW"
   },
   "source": [
    "import pandas as pd\n",
    "import numpy as np\n",
    "import tensorflow as tf\n",
    "from tensorflow.keras import Sequential\n",
    "from tensorflow.keras.layers import Bidirectional, Embedding, SpatialDropout1D, LSTM, Dense, Dropout\n",
    "from tensorflow.keras import utils\n",
    "from tensorflow.keras.preprocessing.text import tokenizer_from_json\n",
    "from tensorflow.keras.callbacks import ReduceLROnPlateau\n",
    "from tensorflow_addons.metrics import F1Score\n",
    "from gensim.models import KeyedVectors\n",
    "\n",
    "print(\"Num GPUs Available: \", len(tf.config.list_physical_devices('GPU')))"
   ],
   "execution_count": 1,
   "outputs": [
    {
     "name": "stdout",
     "output_type": "stream",
     "text": [
      "Num GPUs Available:  1\n"
     ]
    }
   ]
  },
  {
   "cell_type": "code",
   "metadata": {
    "id": "YS6xvVTgKzBZ"
   },
   "source": [
    "train  = np.load('train.npy')\n",
    "labels = np.load('target.npy')\n",
    "test   = np.load('test.npy')"
   ],
   "execution_count": null,
   "outputs": []
  },
  {
   "cell_type": "code",
   "execution_count": null,
   "outputs": [],
   "source": [
    "classes = [\n",
    "    'CATEGORY:LVL1:IT',\n",
    "    'CATEGORY:LVL1:covid19',\n",
    "    'CATEGORY:LVL1:авто',\n",
    "    'CATEGORY:LVL1:бизнесифинансы',\n",
    "    'CATEGORY:LVL1:военнаятехника',\n",
    "    'CATEGORY:LVL1:выгодныепокупки',\n",
    "    'CATEGORY:LVL1:гаджеты',\n",
    "    'CATEGORY:LVL1:громкиепроисшествия',\n",
    "    'CATEGORY:LVL1:детииматеринство',\n",
    "    'CATEGORY:LVL1:еда',\n",
    "    'CATEGORY:LVL1:животные',\n",
    "    'CATEGORY:LVL1:здоровье',\n",
    "    'CATEGORY:LVL1:знаменитости',\n",
    "    'CATEGORY:LVL1:игрыикиберспорт',\n",
    "    'CATEGORY:LVL1:интернетмаркетинг',\n",
    "    'CATEGORY:LVL1:история',\n",
    "    'CATEGORY:LVL1:карьера',\n",
    "    'CATEGORY:LVL1:киноисериалы',\n",
    "    'CATEGORY:LVL1:лайфстайл',\n",
    "    'CATEGORY:LVL1:модаистиль',\n",
    "    'CATEGORY:LVL1:наука',\n",
    "    'CATEGORY:LVL1:недвижимость',\n",
    "    'CATEGORY:LVL1:общество',\n",
    "    'CATEGORY:LVL1:оружие',\n",
    "    'CATEGORY:LVL1:охотаирыбалка',\n",
    "    'CATEGORY:LVL1:полезныесоветы',\n",
    "    'CATEGORY:LVL1:политика',\n",
    "    'CATEGORY:LVL1:праваизаконы',\n",
    "    'CATEGORY:LVL1:правильноепитание',\n",
    "    'CATEGORY:LVL1:психология',\n",
    "    'CATEGORY:LVL1:путешествия',\n",
    "    'CATEGORY:LVL1:ремонтистроительство',\n",
    "    'CATEGORY:LVL1:рукоделиеихэндмэйд',\n",
    "    'CATEGORY:LVL1:садоводство',\n",
    "    'CATEGORY:LVL1:саморазвитие',\n",
    "    'CATEGORY:LVL1:спорт',\n",
    "    'CATEGORY:LVL1:тесты',\n",
    "    'CATEGORY:LVL1:технологиииизобретения',\n",
    "    'CATEGORY:LVL1:уходикосметика',\n",
    "    'CATEGORY:LVL1:фитнес',\n",
    "    'CATEGORY:LVL1:экология'\n",
    "]\n",
    "indices = { i: c for i, c in enumerate(classes) }"
   ],
   "metadata": {
    "collapsed": false,
    "pycharm": {
     "name": "#%%\n"
    }
   }
  },
  {
   "cell_type": "code",
   "metadata": {
    "id": "CVxATpvOKBsZ"
   },
   "source": [
    "seed = 42\n",
    "np.random.seed(seed)\n",
    "np.random.shuffle(train)\n",
    "np.random.seed(seed)\n",
    "np.random.shuffle(labels)"
   ],
   "execution_count": null,
   "outputs": []
  },
  {
   "cell_type": "code",
   "metadata": {
    "id": "ldrzUHlRKBsZ"
   },
   "source": [
    "labels = utils.to_categorical(labels)"
   ],
   "execution_count": null,
   "outputs": []
  },
  {
   "cell_type": "code",
   "metadata": {
    "id": "JragLt21KBsZ",
    "colab": {
     "base_uri": "https://localhost:8080/"
    },
    "outputId": "a8d70b7b-624b-42eb-b1e0-d19bc2fe339b"
   },
   "source": [
    "tokenizer = tokenizer_from_json(open('tokenizer.json', 'r').read())\n",
    "wv = KeyedVectors.load_word2vec_format('w2v.txt')\n",
    "embedding_matrix = np.zeros((len(tokenizer.word_index) + 1, wv.vector_size))\n",
    "unknown = []\n",
    "for word, i in tokenizer.word_index.items():\n",
    "    if word in wv:\n",
    "        embedding_matrix[i] = wv[word]\n",
    "    else:\n",
    "        unknown.append(word)\n",
    "\n",
    "len(unknown)"
   ],
   "execution_count": null,
   "outputs": []
  },
  {
   "cell_type": "code",
   "metadata": {
    "id": "ed6b5AdrKBsa",
    "colab": {
     "base_uri": "https://localhost:8080/"
    },
    "outputId": "f8c1a64e-2afd-4f8b-8f63-1ef53fad4ece"
   },
   "source": [
    "num_words, embed_dim = embedding_matrix.shape\n",
    "seq_len = len(train[0])\n",
    "print('num_words', num_words, 'embed_dim', embed_dim, 'seq_len', seq_len)"
   ],
   "execution_count": null,
   "outputs": []
  },
  {
   "cell_type": "code",
   "metadata": {
    "scrolled": false,
    "id": "hONa3Y0rKBsa",
    "colab": {
     "base_uri": "https://localhost:8080/"
    },
    "outputId": "8ac2016c-51bb-4bbc-f8cb-fa4849ccf1d9"
   },
   "source": [
    "model = Sequential()\n",
    "model.add(Embedding(num_words, embed_dim, weights=[embedding_matrix], input_length=seq_len, trainable=False))\n",
    "model.add(SpatialDropout1D(0.25))\n",
    "model.add(Bidirectional(LSTM(1000, dropout=0.2, recurrent_dropout=0.2, return_sequences=True)))\n",
    "model.add(Bidirectional(LSTM(1000, dropout=0.2, recurrent_dropout=0.2)))\n",
    "model.add(Dense(256, activation='relu'))\n",
    "model.add(Dropout(0.33))\n",
    "model.add(Dense(128, activation='relu'))\n",
    "model.add(Dropout(0.33))\n",
    "model.add(Dense(128, activation='relu'))\n",
    "model.add(Dense(41, activation='sigmoid'))\n",
    "model.compile(loss='categorical_crossentropy',\n",
    "              optimizer='adam',\n",
    "              metrics=['accuracy', F1Score(41, 'weighted', name='f1')])"
   ],
   "execution_count": null,
   "outputs": []
  },
  {
   "cell_type": "code",
   "execution_count": null,
   "outputs": [
    {
     "output_type": "stream",
     "text": [
      "Model: \"sequential\"\n",
      "_________________________________________________________________\n",
      "Layer (type)                 Output Shape              Param #   \n",
      "=================================================================\n",
      "embedding (Embedding)        (None, 67, 100)           55814700  \n",
      "_________________________________________________________________\n",
      "spatial_dropout1d (SpatialDr (None, 67, 100)           0         \n",
      "_________________________________________________________________\n",
      "bidirectional (Bidirectional (None, 67, 2000)          8808000   \n",
      "_________________________________________________________________\n",
      "bidirectional_1 (Bidirection (None, 2000)              24008000  \n",
      "_________________________________________________________________\n",
      "dense (Dense)                (None, 256)               512256    \n",
      "_________________________________________________________________\n",
      "dropout (Dropout)            (None, 256)               0         \n",
      "_________________________________________________________________\n",
      "dense_1 (Dense)              (None, 128)               32896     \n",
      "_________________________________________________________________\n",
      "dropout_1 (Dropout)          (None, 128)               0         \n",
      "_________________________________________________________________\n",
      "dense_2 (Dense)              (None, 128)               16512     \n",
      "_________________________________________________________________\n",
      "dense_3 (Dense)              (None, 41)                5289      \n",
      "=================================================================\n",
      "Total params: 89,197,653\n",
      "Trainable params: 33,382,953\n",
      "Non-trainable params: 55,814,700\n",
      "_________________________________________________________________\n"
     ],
     "name": "stdout"
    }
   ],
   "source": [
    "model.summary()"
   ],
   "metadata": {
    "collapsed": false,
    "pycharm": {
     "name": "#%%\n"
    }
   }
  },
  {
   "cell_type": "code",
   "metadata": {
    "id": "jjurNyXZKBsb",
    "colab": {
     "base_uri": "https://localhost:8080/",
     "height": 491
    },
    "outputId": "5eb3a5a6-0ce6-47c7-ed60-cab690004b6e"
   },
   "source": [
    "epochs = 30\n",
    "batch_size = 1000\n",
    "validation_split = 0.1\n",
    "history = model.fit(train, labels,\n",
    "                    epochs=epochs,\n",
    "                    batch_size=batch_size,\n",
    "                    validation_split=validation_split,\n",
    "                    shuffle=True,\n",
    "                    callbacks=[ReduceLROnPlateau(monitor='val_loss',\n",
    "                                                 factor=0.3,\n",
    "                                                 patience=2,\n",
    "                                                 min_lr=0.00001,\n",
    "                                                 verbose=1)])"
   ],
   "execution_count": null,
   "outputs": []
  },
  {
   "cell_type": "code",
   "metadata": {
    "scrolled": false,
    "id": "rfSDsi06KBsb",
    "colab": {
     "base_uri": "https://localhost:8080/",
     "height": 360
    },
    "outputId": "c2d9f813-7878-4f83-ad69-b495f5385cbd",
    "pycharm": {
     "name": "#%%\n"
    }
   },
   "source": [
    "test = pd.read_csv('test.csv', usecols=['doc_id'])\n",
    "test['target'] = [indices[np.argmax(x)] for x in model.predict(test, batch_size=batch_size, verbose=1)]\n",
    "test.to_csv('res.csv', index=False)"
   ],
   "execution_count": null,
   "outputs": []
  }
 ]
}