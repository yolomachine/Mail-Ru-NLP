{
 "nbformat": 4,
 "nbformat_minor": 0,
 "metadata": {
  "colab": {
   "name": "dialog.ipynb",
   "provenance": [],
   "collapsed_sections": []
  },
  "kernelspec": {
   "name": "python3",
   "language": "python",
   "display_name": "Python 3"
  },
  "language_info": {
   "name": "python"
  },
  "accelerator": "GPU"
 },
 "cells": [
  {
   "cell_type": "code",
   "metadata": {
    "id": "x62Sxay-h4t4"
   },
   "source": [
    "import tensorflow as tf\n",
    "import tensorflow_hub as hub\n",
    "import tensorflow_text\n",
    "import numpy as np\n",
    "import tarfile as tar\n",
    "import jsonlines\n",
    "from tqdm.notebook import tqdm\n",
    "\n",
    "print(\"Num GPUs Available: \", len(tf.config.list_physical_devices('GPU')))"
   ],
   "execution_count": 1,
   "outputs": [
    {
     "name": "stdout",
     "output_type": "stream",
     "text": [
      "Num GPUs Available:  1\n"
     ]
    }
   ]
  },
  {
   "cell_type": "code",
   "execution_count": 2,
   "outputs": [],
   "source": [
    "# Google saves the day, yet again.\n",
    "model = hub.load('https://tfhub.dev/google/universal-sentence-encoder-multilingual-qa/3')"
   ],
   "metadata": {
    "collapsed": false,
    "pycharm": {
     "name": "#%%\n"
    }
   }
  },
  {
   "cell_type": "code",
   "execution_count": 3,
   "outputs": [],
   "source": [
    "question_encoder = model.signatures['question_encoder']\n",
    "response_encoder = model.signatures['response_encoder']"
   ],
   "metadata": {
    "collapsed": false,
    "pycharm": {
     "name": "#%%\n"
    }
   }
  },
  {
   "cell_type": "code",
   "metadata": {
    "id": "-mwzC_8ThUrC",
    "pycharm": {
     "name": "#%%\n"
    }
   },
   "source": [
    "res = []\n",
    "\n",
    "with jsonlines.open('valid.jsonl') as f:\n",
    "    for line in tqdm(f.iter(), position=0, total=10000):\n",
    "        q = tf.constant([line['question']])\n",
    "        r = tf.constant(line['candidates'])\n",
    "        q_emb = question_encoder(q)\n",
    "        r_emb = response_encoder(input=r, context=r)\n",
    "        res.append(np.argmax(np.inner(q_emb['outputs'], r_emb['outputs'])))"
   ],
   "execution_count": 4,
   "outputs": [
    {
     "data": {
      "text/plain": "  0%|          | 0/10000 [00:00<?, ?it/s]",
      "application/vnd.jupyter.widget-view+json": {
       "version_major": 2,
       "version_minor": 0,
       "model_id": "185e5c6da78c4fc7bb9edbbc4d3590c5"
      }
     },
     "metadata": {},
     "output_type": "display_data"
    }
   ]
  },
  {
   "cell_type": "code",
   "execution_count": 5,
   "outputs": [],
   "source": [
    "with open('res.csv', 'w') as f:\n",
    "    f.write('Id,Category\\n')\n",
    "    for i in range(len(res)):\n",
    "        f.write(f'{i},{res[i]}\\n')"
   ],
   "metadata": {
    "collapsed": false,
    "pycharm": {
     "name": "#%%\n"
    }
   }
  }
 ]
}